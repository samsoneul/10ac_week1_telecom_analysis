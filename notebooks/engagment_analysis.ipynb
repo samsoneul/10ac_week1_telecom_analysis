{
 "cells": [
  {
   "cell_type": "code",
   "execution_count": null,
   "metadata": {},
   "outputs": [
    {
     "ename": "",
     "evalue": "",
     "output_type": "error",
     "traceback": [
      "\u001b[1;31mFailed to start the Kernel. \n",
      "\u001b[1;31mUnable to start Kernel '.venv (Python 3.12.2)' due to a connection timeout. \n",
      "\u001b[1;31mView Jupyter <a href='command:jupyter.viewOutput'>log</a> for further details."
     ]
    }
   ],
   "source": [
    "import pandas as pd \n",
    "import sys\n",
    "import os \n",
    "from dotenv import load_dotenv\n",
    "\n",
    "\n",
    "sys.path.append('C:\\\\Users\\\\Ourba\\\\Desktop\\\\10Academy\\\\10ac_week1_telecom_analysis\\\\src')\n",
    "from loader import load_data\n",
    "\n",
    "\n",
    "load_dotenv()\n",
    "\n",
    "user = os.getenv('PG_USER')\n",
    "password = os.getenv('PG_PASSWORD')\n",
    "database_name = 'telecom'\n",
    "table_name= 'xdr_data'\n",
    "host = 'localhost'\n",
    "port = '5432'\n",
    "\n",
    "#Load data from Loader Module\n",
    "df = load_data(host, port, user, password, database_name, table_name)\n",
    "print(df.head())"
   ]
  },
  {
   "cell_type": "code",
   "execution_count": null,
   "metadata": {},
   "outputs": [
    {
     "ename": "",
     "evalue": "",
     "output_type": "error",
     "traceback": [
      "\u001b[1;31mFailed to start the Kernel. \n",
      "\u001b[1;31mUnable to start Kernel '.venv (Python 3.12.2)' due to a connection timeout. \n",
      "\u001b[1;31mView Jupyter <a href='command:jupyter.viewOutput'>log</a> for further details."
     ]
    }
   ],
   "source": [
    "from scipy import stats\n",
    "import numpy as np\n",
    "from utils import preproccess_numerical_data\n",
    "preproccess_numerical_data(df)\n",
    "\n",
    "numerical_cols = df.select_dtypes(include=['number']).columns\n",
    "\n",
    "z_scores = stats.zscore(df[numerical_cols])\n",
    "abs_z_scores = np.abs(z_scores)\n",
    "filtered_entries = (abs_z_scores < 3).all(axis=1)\n",
    "df = df[filtered_entries]\n",
    "print(df[filtered_entries])"
   ]
  },
  {
   "cell_type": "code",
   "execution_count": null,
   "metadata": {},
   "outputs": [
    {
     "ename": "",
     "evalue": "",
     "output_type": "error",
     "traceback": [
      "\u001b[1;31mFailed to start the Kernel. \n",
      "\u001b[1;31mUnable to start Kernel '.venv (Python 3.12.2)' due to a connection timeout. \n",
      "\u001b[1;31mView Jupyter <a href='command:jupyter.viewOutput'>log</a> for further details."
     ]
    }
   ],
   "source": [
    "import pandas as pd\n",
    "\n",
    "# Calculate session frequency per customer (MSISDN)\n",
    "session_frequency = df.groupby('MSISDN/Number').size().reset_index(name='Session Frequency')\n",
    "\n",
    "# Calculate session duration per customer (MSISDN) in milliseconds\n",
    "session_duration = df.groupby('MSISDN/Number')['Dur. (ms)'].sum().reset_index(name='Session Duration (ms)')\n",
    "\n",
    "# Calculate total session traffic (download + upload) per customer (MSISDN) in bytes\n",
    "session_traffic = df.groupby('MSISDN/Number')[['Total UL (Bytes)', 'Total DL (Bytes)']].sum().sum(axis=1).reset_index(name='Total Session Traffic (Bytes)')\n",
    "\n",
    "# Merge the aggregated metrics into a single DataFrame\n",
    "engagement_metrics = pd.merge(session_frequency, session_duration, on='MSISDN/Number')\n",
    "engagement_metrics = pd.merge(engagement_metrics, session_traffic, on='MSISDN/Number')\n",
    "\n",
    "# Rank the customers based on each engagement metric\n",
    "engagement_metrics['Rank - Session Frequency'] = engagement_metrics['Session Frequency'].rank(ascending=False)\n",
    "engagement_metrics['Rank - Session Duration'] = engagement_metrics['Session Duration (ms)'].rank(ascending=False)\n",
    "engagement_metrics['Rank - Total Session Traffic'] = engagement_metrics['Total Session Traffic (Bytes)'].rank(ascending=False)\n",
    "\n",
    "# Report the top 10 customers for each engagement metric\n",
    "top_10_frequency = engagement_metrics.sort_values(by='Rank - Session Frequency').head(10)\n",
    "top_10_duration = engagement_metrics.sort_values(by='Rank - Session Duration').head(10)\n",
    "top_10_traffic = engagement_metrics.sort_values(by='Rank - Total Session Traffic').head(10)\n",
    "\n",
    "print(\"Top 10 Customers by Session Frequency:\")\n",
    "print(top_10_frequency[['MSISDN/Number', 'Session Frequency']])\n",
    "\n",
    "print(\"\\nTop 10 Customers by Session Duration:\")\n",
    "print(top_10_duration[['MSISDN/Number', 'Session Duration (ms)']])\n",
    "\n",
    "print(\"\\nTop 10 Customers by Total Session Traffic:\")\n",
    "print(top_10_traffic[['MSISDN/Number', 'Total Session Traffic (Bytes)']])\n"
   ]
  },
  {
   "cell_type": "code",
   "execution_count": null,
   "metadata": {},
   "outputs": [
    {
     "ename": "",
     "evalue": "",
     "output_type": "error",
     "traceback": [
      "\u001b[1;31mFailed to start the Kernel. \n",
      "\u001b[1;31mUnable to start Kernel '.venv (Python 3.12.2)' due to a connection timeout. \n",
      "\u001b[1;31mView Jupyter <a href='command:jupyter.viewOutput'>log</a> for further details."
     ]
    }
   ],
   "source": [
    "from sklearn.preprocessing import StandardScaler\n",
    "from sklearn.cluster import KMeans\n",
    "\n",
    "\n",
    "# Assuming engagement_metrics is your DataFrame containing the engagement metrics\n",
    "# Normalize the engagement metrics\n",
    "scaler = StandardScaler()\n",
    "normalized_metrics = scaler.fit_transform(engagement_metrics[['Session Frequency', 'Session Duration (ms)', 'Total Session Traffic (Bytes)']])\n",
    "\n",
    "# Run k-means clustering with k=3\n",
    "kmeans = KMeans(n_clusters=3, random_state=42)\n",
    "engagement_metrics['Cluster'] = kmeans.fit_predict(normalized_metrics)\n",
    "\n",
    "# Analyze and interpret the clusters\n",
    "cluster_summary = engagement_metrics.groupby('Cluster').mean().reset_index()\n",
    "\n",
    "print(\"Cluster Summary:\")\n",
    "print(cluster_summary)\n",
    "\n",
    "# Report the top 10 customers for each cluster\n",
    "for cluster_id in range(3):\n",
    "    print(f\"\\nTop 10 Customers in Cluster {cluster_id}:\")\n",
    "    print(engagement_metrics[engagement_metrics['Cluster'] == cluster_id].sort_values(by='Rank - Session Frequency').head(10)[['MSISDN/Number', 'Session Frequency']])\n"
   ]
  },
  {
   "cell_type": "code",
   "execution_count": null,
   "metadata": {},
   "outputs": [
    {
     "ename": "",
     "evalue": "",
     "output_type": "error",
     "traceback": [
      "\u001b[1;31mFailed to start the Kernel. \n",
      "\u001b[1;31mUnable to start Kernel '.venv (Python 3.12.2)' due to a connection timeout. \n",
      "\u001b[1;31mView Jupyter <a href='command:jupyter.viewOutput'>log</a> for further details."
     ]
    }
   ],
   "source": [
    "import matplotlib.pyplot as plt\n",
    "import seaborn as sns\n",
    "\n",
    "# Calculate minimum, maximum, average, and total non-normalized metrics for each cluster\n",
    "cluster_summary = engagement_metrics.groupby('Cluster').agg({\n",
    "    'Session Frequency': ['min', 'max', 'mean', 'sum'],\n",
    "    'Session Duration (ms)': ['min', 'max', 'mean', 'sum'],\n",
    "    'Total Session Traffic (Bytes)': ['min', 'max', 'mean', 'sum']\n",
    "}).reset_index()\n",
    "\n",
    "# Rename columns for better readability\n",
    "cluster_summary.columns = ['Cluster', \n",
    "                           'Min Session Frequency', 'Max Session Frequency', 'Avg Session Frequency', 'Total Session Frequency',\n",
    "                           'Min Session Duration', 'Max Session Duration', 'Avg Session Duration', 'Total Session Duration',\n",
    "                           'Min Total Session Traffic', 'Max Total Session Traffic', 'Avg Total Session Traffic', 'Total Total Session Traffic']\n",
    "\n",
    "print(\"Cluster Summary:\")\n",
    "print(cluster_summary)\n",
    "\n",
    "# Visualize the results\n",
    "metrics = ['Session Frequency', 'Session Duration (ms)', 'Total Session Traffic (Bytes)']\n",
    "\n",
    "# Reshape the data for plotting\n",
    "plot_data = pd.melt(cluster_summary, id_vars=['Cluster'], var_name='Metric', value_name='Value')\n",
    "\n",
    "# Plot grouped bar charts\n",
    "plt.figure(figsize=(12, 8))\n",
    "sns.barplot(x='Metric', y='Value', hue='Cluster', data=plot_data, ci=None)\n",
    "plt.title('Comparison of Engagement Metrics Across Clusters')\n",
    "plt.xlabel('Engagement Metric')\n",
    "plt.ylabel('Value')\n",
    "plt.xticks(rotation=45, ha='right')\n",
    "plt.legend(title='Cluster', loc='upper right')\n",
    "plt.show()\n"
   ]
  },
  {
   "cell_type": "markdown",
   "metadata": {},
   "source": [
    "Cluster 0: This cluster seems to represent users with low to moderate engagement levels. The session frequency, duration, and total session traffic are relatively low compared to Cluster 2 but higher than Cluster 1.\n",
    "Cluster 1: This cluster seems to represent users with unusually high and identical engagement levels across all metrics, which is suspicious and may indicate an issue with the clustering or aggregation process.\n",
    "Cluster 2: This cluster seems to represent users with low engagement levels. The session frequency, duration, and total session traffic are the lowest among the three clusters."
   ]
  },
  {
   "cell_type": "code",
   "execution_count": null,
   "metadata": {},
   "outputs": [
    {
     "ename": "",
     "evalue": "",
     "output_type": "error",
     "traceback": [
      "\u001b[1;31mFailed to start the Kernel. \n",
      "\u001b[1;31mUnable to start Kernel '.venv (Python 3.12.2)' due to a connection timeout. \n",
      "\u001b[1;31mView Jupyter <a href='command:jupyter.viewOutput'>log</a> for further details."
     ]
    }
   ],
   "source": [
    "import pandas as pd\n",
    "\n",
    "# List of individual application columns\n",
    "app_cols = ['Social Media', 'Google', 'Email', 'Youtube', 'Netflix', 'Gaming', 'Other']\n",
    "\n",
    "# Create new columns for total traffic per application\n",
    "for app in app_cols:\n",
    "    df[f'{app} Total Traffic (Bytes)'] = df[f'{app} DL (Bytes)'] + df[f'{app} UL (Bytes)']\n",
    "\n",
    "# Aggregate total traffic per application for each user\n",
    "user_traffic = df.groupby('MSISDN/Number')[[f'{app} Total Traffic (Bytes)' for app in app_cols]].sum().reset_index()\n",
    "\n",
    "# Initialize an empty dictionary to store the top 10 most engaged users per application\n",
    "top_10_users_per_app = {}\n",
    "\n",
    "# Identify the top 10 most engaged users per application\n",
    "for app in app_cols:\n",
    "    top_10_users_per_app[app] = user_traffic.nlargest(10, f'{app} Total Traffic (Bytes)')[['MSISDN/Number', f'{app} Total Traffic (Bytes)']]\n",
    "\n",
    "# Display the top 10 most engaged users per application\n",
    "for app in app_cols[1:]:  # Start from Email and proceed to Other\n",
    "    print(f\"Top 10 Most Engaged Users for {app}:\")\n",
    "    print(top_10_users_per_app[app].head(10))\n",
    "    "
   ]
  },
  {
   "cell_type": "code",
   "execution_count": null,
   "metadata": {},
   "outputs": [
    {
     "ename": "",
     "evalue": "",
     "output_type": "error",
     "traceback": [
      "\u001b[1;31mFailed to start the Kernel. \n",
      "\u001b[1;31mUnable to start Kernel '.venv (Python 3.12.2)' due to a connection timeout. \n",
      "\u001b[1;31mView Jupyter <a href='command:jupyter.viewOutput'>log</a> for further details."
     ]
    }
   ],
   "source": [
    "\n",
    "\n",
    "\n",
    "# Calculate the total traffic for each application\n",
    "total_traffic_per_app = {app: df[f'{app} Total Traffic (Bytes)'].sum() for app in app_cols}\n",
    "\n",
    "# Sort the applications based on total traffic in descending order\n",
    "sorted_apps = sorted(total_traffic_per_app, key=total_traffic_per_app.get, reverse=True)\n",
    "\n",
    "# Select the top 3 most used applications\n",
    "top_3_apps = sorted_apps[:3]\n",
    "\n",
    "# Create a bar plot for the top 3 most used applications\n",
    "plt.figure(figsize=(10, 6))\n",
    "sns.barplot(x=top_3_apps, y=[total_traffic_per_app[app] for app in top_3_apps])\n",
    "plt.xlabel('Applications')\n",
    "plt.ylabel('Total Traffic (Bytes)')\n",
    "plt.title('Top 3 Most Used Applications by Total Traffic')\n",
    "plt.show()\n"
   ]
  },
  {
   "cell_type": "code",
   "execution_count": null,
   "metadata": {},
   "outputs": [
    {
     "ename": "",
     "evalue": "",
     "output_type": "error",
     "traceback": [
      "\u001b[1;31mFailed to start the Kernel. \n",
      "\u001b[1;31mUnable to start Kernel '.venv (Python 3.12.2)' due to a connection timeout. \n",
      "\u001b[1;31mView Jupyter <a href='command:jupyter.viewOutput'>log</a> for further details."
     ]
    }
   ],
   "source": [
    "from sklearn.cluster import KMeans\n",
    "\n",
    "# Select the engagement metrics for clustering\n",
    "engagement_metrics = df[['Social Media Total Traffic (Bytes)', 'Google Total Traffic (Bytes)', 'Email Total Traffic (Bytes)']]\n",
    "\n",
    "# Calculate WCSS for different values of k\n",
    "wcss = []\n",
    "for k in range(1, 11):\n",
    "    kmeans = KMeans(n_clusters=k, init='k-means++', random_state=42)\n",
    "    kmeans.fit(engagement_metrics)\n",
    "    wcss.append(kmeans.inertia_)\n",
    "\n",
    "# Plot the elbow curve\n",
    "plt.figure(figsize=(10, 6))\n",
    "plt.plot(range(1, 11), wcss, marker='o', linestyle='--')\n",
    "plt.title('Elbow Method for Optimal k')\n",
    "plt.xlabel('Number of Clusters (k)')\n",
    "plt.ylabel('WCSS')\n",
    "plt.xticks(np.arange(1, 11, 1))\n",
    "plt.grid(True)\n",
    "plt.show()\n"
   ]
  }
 ],
 "metadata": {
  "kernelspec": {
   "display_name": ".venv",
   "language": "python",
   "name": "python3"
  },
  "language_info": {
   "codemirror_mode": {
    "name": "ipython",
    "version": 3
   },
   "file_extension": ".py",
   "mimetype": "text/x-python",
   "name": "python",
   "nbconvert_exporter": "python",
   "pygments_lexer": "ipython3",
   "version": "3.12.2"
  }
 },
 "nbformat": 4,
 "nbformat_minor": 2
}
