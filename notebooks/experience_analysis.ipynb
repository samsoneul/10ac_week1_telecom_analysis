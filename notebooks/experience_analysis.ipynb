{
 "cells": [
  {
   "cell_type": "code",
   "execution_count": 1,
   "metadata": {},
   "outputs": [
    {
     "name": "stdout",
     "output_type": "stream",
     "text": [
      "      Bearer Id            Start  Start ms              End  End ms  \\\n",
      "0  1.311448e+19   4/4/2019 12:01     770.0  4/25/2019 14:35   662.0   \n",
      "1  1.311448e+19   4/9/2019 13:04     235.0   4/25/2019 8:15   606.0   \n",
      "2  1.311448e+19   4/9/2019 17:42       1.0  4/25/2019 11:58   652.0   \n",
      "3  1.311448e+19   4/10/2019 0:31     486.0   4/25/2019 7:36   171.0   \n",
      "4  1.311448e+19  4/12/2019 20:10     565.0  4/25/2019 10:40   954.0   \n",
      "\n",
      "   Dur. (ms)          IMSI  MSISDN/Number          IMEI  \\\n",
      "0  1823652.0  2.082014e+14   3.366496e+10  3.552121e+13   \n",
      "1  1365104.0  2.082019e+14   3.368185e+10  3.579401e+13   \n",
      "2  1361762.0  2.082003e+14   3.376063e+10  3.528151e+13   \n",
      "3  1321509.0  2.082014e+14   3.375034e+10  3.535661e+13   \n",
      "4  1089009.0  2.082014e+14   3.369980e+10  3.540701e+13   \n",
      "\n",
      "      Last Location Name  ...  Youtube DL (Bytes)  Youtube UL (Bytes)  \\\n",
      "0  9.16456699548519E+015  ...          15854611.0           2501332.0   \n",
      "1                L77566A  ...          20247395.0          19111729.0   \n",
      "2                D42335A  ...          19725661.0          14699576.0   \n",
      "3                T21824A  ...          21388122.0          15146643.0   \n",
      "4                D88865A  ...          15259380.0          18962873.0   \n",
      "\n",
      "   Netflix DL (Bytes)  Netflix UL (Bytes)  Gaming DL (Bytes)  \\\n",
      "0           8198936.0           9656251.0        278082303.0   \n",
      "1          18338413.0          17227132.0        608750074.0   \n",
      "2          17587794.0           6163408.0        229584621.0   \n",
      "3          13994646.0           1097942.0        799538153.0   \n",
      "4          17124581.0            415218.0        527707248.0   \n",
      "\n",
      "   Gaming UL (Bytes)  Other DL (Bytes)  Other UL (Bytes)  Total UL (Bytes)  \\\n",
      "0         14344150.0       171744450.0         8814393.0        36749741.0   \n",
      "1          1170709.0       526904238.0        15055145.0        53800391.0   \n",
      "2           395630.0       410692588.0         4215763.0        27883638.0   \n",
      "3         10849722.0       749039933.0        12797283.0        43324218.0   \n",
      "4          3529801.0       550709500.0        13910322.0        38542814.0   \n",
      "\n",
      "   Total DL (Bytes)  \n",
      "0       308879636.0  \n",
      "1       653384965.0  \n",
      "2       279807335.0  \n",
      "3       846028530.0  \n",
      "4       569138589.0  \n",
      "\n",
      "[5 rows x 55 columns]\n"
     ]
    }
   ],
   "source": [
    "import pandas as pd \n",
    "import sys\n",
    "import os \n",
    "from dotenv import load_dotenv\n",
    "\n",
    "\n",
    "sys.path.append('C:\\\\Users\\\\Ourba\\\\Desktop\\\\10Academy\\\\10ac_week1_telecom_analysis\\\\src')\n",
    "from loader import load_data\n",
    "\n",
    "\n",
    "load_dotenv()\n",
    "\n",
    "user = os.getenv('PG_USER')\n",
    "password = os.getenv('PG_PASSWORD')\n",
    "database_name = 'telecom'\n",
    "table_name= 'xdr_data'\n",
    "host = 'localhost'\n",
    "port = '5432'\n",
    "\n",
    "#Load data from Loader Module\n",
    "df = load_data(host, port, user, password, database_name, table_name)\n",
    "print(df.head())"
   ]
  },
  {
   "cell_type": "code",
   "execution_count": 2,
   "metadata": {},
   "outputs": [
    {
     "name": "stderr",
     "output_type": "stream",
     "text": [
      "C:\\Users\\Ourba\\Desktop\\10Academy\\10ac_week1_telecom_analysis\\src\\utils.py:13: SettingWithCopyWarning: \n",
      "A value is trying to be set on a copy of a slice from a DataFrame.\n",
      "Try using .loc[row_indexer,col_indexer] = value instead\n",
      "\n",
      "See the caveats in the documentation: https://pandas.pydata.org/pandas-docs/stable/user_guide/indexing.html#returning-a-view-versus-a-copy\n",
      "  df[col] = df[col].fillna(df[col].mean())\n"
     ]
    }
   ],
   "source": [
    "network_parameteres=[\n",
    "    'TCP DL Retrans. Vol (Bytes)',\n",
    "    'TCP UL Retrans. Vol (Bytes)',\n",
    "    'Avg RTT DL (ms)',\n",
    "    'Avg RTT UL (ms)',\n",
    "    'Avg Bearer TP DL (kbps)',\n",
    "    'Avg Bearer TP UL (kbps)']\n",
    "#preprocess numerical columns\n",
    "from utils import DataProcessor\n",
    "processor=DataProcessor()\n",
    "df[network_parameteres]=processor.preprocess_numerical_data(df[network_parameteres]) \n",
    "#handle outliers\n",
    "df[network_parameteres]=processor.remove_outliers_zscore(df[network_parameteres])\n"
   ]
  },
  {
   "cell_type": "code",
   "execution_count": 41,
   "metadata": {},
   "outputs": [
    {
     "name": "stdout",
     "output_type": "stream",
     "text": [
      "0         1.127087e+12\n",
      "1         1.127087e+12\n",
      "2         1.127087e+12\n",
      "3         1.127087e+12\n",
      "4         1.127087e+12\n",
      "              ...     \n",
      "149996    1.127087e+12\n",
      "149997    1.127087e+12\n",
      "149998    1.127087e+12\n",
      "149999    1.127087e+12\n",
      "150000    1.127087e+12\n",
      "Name: Average TCP Retrans, Length: 150001, dtype: float64\n"
     ]
    }
   ],
   "source": [
    "# print(df[network_parameteres].describe())\n",
    "\n",
    " # Calculating the average TCP retransmission volume\n",
    "df['Average TCP Retrans'] = df[['TCP DL Retrans. Vol (Bytes)', 'TCP UL Retrans. Vol (Bytes)']].sum().mean()\n",
    "# # Displaying the average TCP retransmission volume for each user\n",
    "\n",
    "print(df['Average TCP Retrans'])"
   ]
  },
  {
   "cell_type": "code",
   "execution_count": 44,
   "metadata": {},
   "outputs": [
    {
     "name": "stdout",
     "output_type": "stream",
     "text": [
      "0         7.003717e+06\n",
      "1         7.003717e+06\n",
      "2         7.003717e+06\n",
      "3         7.003717e+06\n",
      "4         7.003717e+06\n",
      "              ...     \n",
      "149996    7.003717e+06\n",
      "149997    7.003717e+06\n",
      "149998    7.003717e+06\n",
      "149999    7.003717e+06\n",
      "150000    7.003717e+06\n",
      "Name: Average RTT, Length: 150001, dtype: float64\n"
     ]
    }
   ],
   "source": [
    " # Calculating the average Rtt\n",
    "df['Average RTT']= df[['Avg RTT DL (ms)','Avg RTT UL (ms)',]].sum().mean()\n",
    "print(df['Average RTT'])"
   ]
  },
  {
   "cell_type": "code",
   "execution_count": 45,
   "metadata": {},
   "outputs": [
    {
     "name": "stdout",
     "output_type": "stream",
     "text": [
      "0         8.050943e+08\n",
      "1         8.050943e+08\n",
      "2         8.050943e+08\n",
      "3         8.050943e+08\n",
      "4         8.050943e+08\n",
      "              ...     \n",
      "149996    8.050943e+08\n",
      "149997    8.050943e+08\n",
      "149998    8.050943e+08\n",
      "149999    8.050943e+08\n",
      "150000    8.050943e+08\n",
      "Name: Average tp, Length: 150001, dtype: float64\n"
     ]
    }
   ],
   "source": [
    " # Calculating the average tp\n",
    "df['Average tp']= df[[ 'Avg Bearer TP DL (kbps)','Avg Bearer TP UL (kbps)',]].sum().mean()\n",
    "print(df['Average tp'])"
   ]
  },
  {
   "cell_type": "code",
   "execution_count": 53,
   "metadata": {},
   "outputs": [
    {
     "name": "stdout",
     "output_type": "stream",
     "text": [
      "        MSISDN/Number  Average TCP Retrans   Average RTT    Average tp\n",
      "0        3.360100e+10         1.127087e+12  7.003717e+06  8.050943e+08\n",
      "1        3.360100e+10         1.127087e+12  7.003717e+06  8.050943e+08\n",
      "2        3.360100e+10         1.127087e+12  7.003717e+06  8.050943e+08\n",
      "3        3.360101e+10         1.127087e+12  7.003717e+06  8.050943e+08\n",
      "4        3.360101e+10         1.127087e+12  7.003717e+06  8.050943e+08\n",
      "...               ...                  ...           ...           ...\n",
      "106851   3.379000e+10         1.127087e+12  7.003717e+06  8.050943e+08\n",
      "106852   3.379000e+10         1.127087e+12  7.003717e+06  8.050943e+08\n",
      "106853   3.197021e+12         1.127087e+12  7.003717e+06  8.050943e+08\n",
      "106854   3.370000e+14         1.127087e+12  7.003717e+06  8.050943e+08\n",
      "106855   8.823971e+14         1.127087e+12  7.003717e+06  8.050943e+08\n",
      "\n",
      "[106856 rows x 4 columns]\n"
     ]
    }
   ],
   "source": [
    "# Group by 'MSISDN/Number' and select specific columns for aggregation\n",
    "aggs = df.groupby('MSISDN/Number')[['Average TCP Retrans', 'Average RTT', 'Average tp']].mean().reset_index()\n",
    "\n",
    "print(aggs)\n"
   ]
  }
 ],
 "metadata": {
  "kernelspec": {
   "display_name": ".venv",
   "language": "python",
   "name": "python3"
  },
  "language_info": {
   "codemirror_mode": {
    "name": "ipython",
    "version": 3
   },
   "file_extension": ".py",
   "mimetype": "text/x-python",
   "name": "python",
   "nbconvert_exporter": "python",
   "pygments_lexer": "ipython3",
   "version": "3.12.2"
  }
 },
 "nbformat": 4,
 "nbformat_minor": 2
}
