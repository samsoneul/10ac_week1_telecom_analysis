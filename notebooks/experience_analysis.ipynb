{
 "cells": [
  {
   "cell_type": "code",
   "execution_count": 1,
   "metadata": {},
   "outputs": [
    {
     "name": "stdout",
     "output_type": "stream",
     "text": [
      "        TCP DL Retrans. Vol (Bytes)  TCP UL Retrans. Vol (Bytes)\n",
      "149401                          NaN                          NaN\n",
      "149402                          NaN                          NaN\n",
      "149403                          NaN                          NaN\n",
      "149404                      61114.0                          NaN\n",
      "149405                          NaN                          NaN\n",
      "...                             ...                          ...\n",
      "149996                          NaN                          NaN\n",
      "149997                          NaN                          NaN\n",
      "149998                          NaN                          NaN\n",
      "149999                          NaN                          NaN\n",
      "150000                          NaN                          NaN\n",
      "\n",
      "[600 rows x 2 columns]\n"
     ]
    }
   ],
   "source": [
    "import pandas as pd \n",
    "import sys\n",
    "import os \n",
    "from dotenv import load_dotenv\n",
    "\n",
    "\n",
    "sys.path.append('C:\\\\Users\\\\Ourba\\\\Desktop\\\\10Academy\\\\10ac_week1_telecom_analysis\\\\src')\n",
    "from loader import load_data\n",
    "\n",
    "\n",
    "load_dotenv()\n",
    "\n",
    "user = os.getenv('PG_USER')\n",
    "password = os.getenv('PG_PASSWORD')\n",
    "database_name = 'telecom'\n",
    "table_name= 'xdr_data'\n",
    "host = 'localhost'\n",
    "port = '5432'\n",
    "\n",
    "#Load data from Loader Module\n",
    "df = load_data(host, port, user, password, database_name, table_name)\n",
    "print(df[['TCP DL Retrans. Vol (Bytes)','TCP UL Retrans. Vol (Bytes)']].tail(600))"
   ]
  },
  {
   "cell_type": "code",
   "execution_count": 2,
   "metadata": {},
   "outputs": [
    {
     "name": "stderr",
     "output_type": "stream",
     "text": [
      "C:\\Users\\Ourba\\Desktop\\10Academy\\10ac_week1_telecom_analysis\\src\\utils.py:15: SettingWithCopyWarning: \n",
      "A value is trying to be set on a copy of a slice from a DataFrame.\n",
      "Try using .loc[row_indexer,col_indexer] = value instead\n",
      "\n",
      "See the caveats in the documentation: https://pandas.pydata.org/pandas-docs/stable/user_guide/indexing.html#returning-a-view-versus-a-copy\n",
      "  df[col] = df[col].fillna(df[col].mean())\n"
     ]
    },
    {
     "name": "stdout",
     "output_type": "stream",
     "text": [
      "        TCP DL Retrans. Vol (Bytes)  TCP UL Retrans. Vol (Bytes)\n",
      "141001                 2.080991e+07                759658.664811\n",
      "141002                 2.080991e+07                759658.664811\n",
      "141003                 2.415200e+04                  2660.000000\n",
      "141004                 2.080991e+07                759658.664811\n",
      "141005                 5.496590e+06                101761.000000\n",
      "...                             ...                          ...\n",
      "149996                 2.080991e+07                759658.664811\n",
      "149997                 2.080991e+07                759658.664811\n",
      "149998                 2.080991e+07                759658.664811\n",
      "149999                 2.080991e+07                759658.664811\n",
      "150000                 2.080991e+07                759658.664811\n",
      "\n",
      "[9000 rows x 2 columns]\n"
     ]
    }
   ],
   "source": [
    "network_parameteres=[\n",
    "    'TCP DL Retrans. Vol (Bytes)',\n",
    "    'TCP UL Retrans. Vol (Bytes)',\n",
    "    'Avg RTT DL (ms)',\n",
    "    'Avg RTT UL (ms)',\n",
    "    'Avg Bearer TP DL (kbps)',\n",
    "    'Avg Bearer TP UL (kbps)']\n",
    "#preprocess numerical columns\n",
    "from utils import DataProcessor\n",
    "processor=DataProcessor()\n",
    "df[network_parameteres]=processor.preprocess_numerical_data(df[network_parameteres]) \n",
    "#handle outliers\n",
    "df[network_parameteres]=processor.remove_outliers_zscore(df[network_parameteres])\n",
    "df=processor.preproccess_categorical_data(df)\n",
    "print(df[['TCP DL Retrans. Vol (Bytes)','TCP UL Retrans. Vol (Bytes)']].tail(9000))"
   ]
  },
  {
   "cell_type": "code",
   "execution_count": 3,
   "metadata": {},
   "outputs": [
    {
     "name": "stdout",
     "output_type": "stream",
     "text": [
      "        Average TCP Retrans  TCP DL Retrans. Vol (Bytes)  \\\n",
      "0              8.203359e+10                 2.080991e+07   \n",
      "1              8.203359e+10                 2.080991e+07   \n",
      "2              8.203359e+10                 2.080991e+07   \n",
      "3              8.203359e+10                 2.080991e+07   \n",
      "4              8.203359e+10                 2.080991e+07   \n",
      "...                     ...                          ...   \n",
      "149996         8.203359e+10                 2.080991e+07   \n",
      "149997         8.203359e+10                 2.080991e+07   \n",
      "149998         8.203359e+10                 2.080991e+07   \n",
      "149999         8.203359e+10                 2.080991e+07   \n",
      "150000         8.203359e+10                 2.080991e+07   \n",
      "\n",
      "        TCP UL Retrans. Vol (Bytes)  \n",
      "0                     759658.664811  \n",
      "1                     759658.664811  \n",
      "2                     759658.664811  \n",
      "3                     759658.664811  \n",
      "4                     759658.664811  \n",
      "...                             ...  \n",
      "149996                759658.664811  \n",
      "149997                759658.664811  \n",
      "149998                759658.664811  \n",
      "149999                759658.664811  \n",
      "150000                759658.664811  \n",
      "\n",
      "[150001 rows x 3 columns]\n"
     ]
    }
   ],
   "source": [
    "# print(df[network_parameteres].describe())\n",
    "\n",
    " # Calculating the average TCP retransmission volume\n",
    "df['Average TCP Retrans'] = df['TCP DL Retrans. Vol (Bytes)']+ df[ 'TCP UL Retrans. Vol (Bytes)'].sum()\n",
    "# # Displaying the average TCP retransmission volume for each user\n",
    "\n",
    "print(df[['Average TCP Retrans','TCP DL Retrans. Vol (Bytes)','TCP UL Retrans. Vol (Bytes)']])"
   ]
  },
  {
   "cell_type": "code",
   "execution_count": 4,
   "metadata": {},
   "outputs": [
    {
     "name": "stdout",
     "output_type": "stream",
     "text": [
      "0          47.000000\n",
      "1          70.000000\n",
      "2         127.458589\n",
      "3         127.458589\n",
      "4         127.458589\n",
      "             ...    \n",
      "149996     32.000000\n",
      "149997     29.000000\n",
      "149998     49.000000\n",
      "149999     42.000000\n",
      "150000    127.458589\n",
      "Name: Average RTT, Length: 150001, dtype: float64\n"
     ]
    }
   ],
   "source": [
    " # Calculating the average Rtt\n",
    "df['Average RTT']= df['Avg RTT DL (ms)']+df['Avg RTT UL (ms)']\n",
    "print(df['Average RTT'])"
   ]
  },
  {
   "cell_type": "code",
   "execution_count": 5,
   "metadata": {},
   "outputs": [
    {
     "name": "stdout",
     "output_type": "stream",
     "text": [
      "0            67.000000\n",
      "1            42.000000\n",
      "2            15.000000\n",
      "3            88.000000\n",
      "4            15.000000\n",
      "              ...     \n",
      "149996      117.000000\n",
      "149997       77.000000\n",
      "149998       90.000000\n",
      "149999       71.000000\n",
      "150000    15070.474573\n",
      "Name: Average tp, Length: 150001, dtype: float64\n"
     ]
    }
   ],
   "source": [
    " # Calculating the average tp\n",
    "df['Average tp']= df[ 'Avg Bearer TP DL (kbps)']+df['Avg Bearer TP UL (kbps)']\n",
    "print(df['Average tp'])"
   ]
  },
  {
   "cell_type": "code",
   "execution_count": 6,
   "metadata": {},
   "outputs": [
    {
     "name": "stdout",
     "output_type": "stream",
     "text": [
      "   MSISDN/Number                         Handset Type  Average TCP Retrans  \\\n",
      "0   3.366496e+10           Samsung Galaxy A5 Sm-A520F         8.203359e+10   \n",
      "1   3.368185e+10          Samsung Galaxy J5 (Sm-J530)         8.203359e+10   \n",
      "2   3.376063e+10             Samsung Galaxy A8 (2018)         8.203359e+10   \n",
      "3   3.375034e+10                     Huawei B528S-23A         8.203359e+10   \n",
      "4   3.369980e+10                     Samsung Sm-G390F         8.203359e+10   \n",
      "5   3.366819e+10                     Huawei B528S-23A         8.203359e+10   \n",
      "6   3.366537e+10                  Huawei Mate 20 Lite         8.203359e+10   \n",
      "7   3.376349e+10                     Huawei B528S-23A         8.201280e+10   \n",
      "8   3.369874e+10             Samsung Galaxy A8 (2018)         8.203359e+10   \n",
      "9   3.365922e+10  Samsung Galaxy Note 8 (Sm-N950F Ds)         8.201601e+10   \n",
      "\n",
      "   Average RTT  Average tp  \n",
      "0    47.000000        67.0  \n",
      "1    70.000000        42.0  \n",
      "2   127.458589        15.0  \n",
      "3   127.458589        88.0  \n",
      "4   127.458589        15.0  \n",
      "5   127.458589       124.0  \n",
      "6   107.000000        60.0  \n",
      "7    57.000000      4114.0  \n",
      "8   127.458589        95.0  \n",
      "9   104.000000      6380.0  \n"
     ]
    }
   ],
   "source": [
    "\n",
    "\n",
    "print(df[['MSISDN/Number','Handset Type','Average TCP Retrans', 'Average RTT', 'Average tp']].head(10))\n"
   ]
  },
  {
   "cell_type": "code",
   "execution_count": 7,
   "metadata": {},
   "outputs": [
    {
     "name": "stderr",
     "output_type": "stream",
     "text": [
      "C:\\Users\\Ourba\\AppData\\Local\\Temp\\ipykernel_17980\\2528860940.py:2: DeprecationWarning: DataFrameGroupBy.apply operated on the grouping columns. This behavior is deprecated, and in a future version of pandas the grouping columns will be excluded from the operation. Either pass `include_groups=False` to exclude the groupings or explicitly select the grouping columns after groupby to silence this warning.\n",
      "  top_10 = df.groupby('MSISDN/Number').apply(lambda x: x.nlargest(10, 'Average TCP Retrans'))\n"
     ]
    },
    {
     "name": "stdout",
     "output_type": "stream",
     "text": [
      "                      MSISDN/Number  Average TCP Retrans\n",
      "MSISDN/Number                                           \n",
      "3.360100e+10  41966    3.360100e+10         8.203359e+10\n",
      "              127714   3.360100e+10         8.203359e+10\n",
      "              134591   3.360100e+10         8.203359e+10\n",
      "3.360101e+10  95563    3.360101e+10         8.201278e+10\n",
      "              16620    3.360101e+10         8.203359e+10\n",
      "...                             ...                  ...\n",
      "3.379000e+10  23720    3.379000e+10         8.201299e+10\n",
      "              57413    3.379000e+10         8.203359e+10\n",
      "3.197021e+12  100027   3.197021e+12         8.203359e+10\n",
      "3.370000e+14  126060   3.370000e+14         8.203359e+10\n",
      "8.823971e+14  125042   8.823971e+14         8.203359e+10\n",
      "\n",
      "[148879 rows x 2 columns]\n",
      "        MSISDN/Number  Average TCP Retrans\n",
      "0        3.360100e+10         8.203359e+10\n",
      "1        3.360100e+10         8.203359e+10\n",
      "2        3.360100e+10         8.203359e+10\n",
      "3        3.360101e+10         8.201278e+10\n",
      "4        3.360101e+10         8.203359e+10\n",
      "...               ...                  ...\n",
      "148874   3.379000e+10         8.201299e+10\n",
      "148875   3.379000e+10         8.203359e+10\n",
      "148876   3.197021e+12         8.203359e+10\n",
      "148877   3.370000e+14         8.203359e+10\n",
      "148878   8.823971e+14         8.203359e+10\n",
      "\n",
      "[148879 rows x 2 columns]\n",
      "Average TCP Retrans\n",
      "8.203359e+10    87673\n",
      "8.201278e+10      424\n",
      "8.201278e+10      211\n",
      "8.201278e+10      195\n",
      "8.201278e+10      186\n",
      "8.201278e+10      152\n",
      "8.201278e+10      128\n",
      "8.201278e+10      111\n",
      "8.201278e+10      107\n",
      "8.201278e+10       99\n",
      "Name: count, dtype: int64\n"
     ]
    },
    {
     "name": "stderr",
     "output_type": "stream",
     "text": [
      "C:\\Users\\Ourba\\AppData\\Local\\Temp\\ipykernel_17980\\2528860940.py:8: DeprecationWarning: DataFrameGroupBy.apply operated on the grouping columns. This behavior is deprecated, and in a future version of pandas the grouping columns will be excluded from the operation. Either pass `include_groups=False` to exclude the groupings or explicitly select the grouping columns after groupby to silence this warning.\n",
      "  bottom_10 = df.groupby('MSISDN/Number').apply(lambda x: x.nsmallest(10, 'Average TCP Retrans')).reset_index(drop=True)\n"
     ]
    }
   ],
   "source": [
    "# Group by 'MSISDN/Number' and get the top 10 rows for each group sorted by 'Average TCP Retrans'\n",
    "top_10 = df.groupby('MSISDN/Number').apply(lambda x: x.nlargest(10, 'Average TCP Retrans'))\n",
    "\n",
    "print(top_10[['MSISDN/Number',\"Average TCP Retrans\"]])\n",
    "\n",
    "\n",
    "\n",
    "bottom_10 = df.groupby('MSISDN/Number').apply(lambda x: x.nsmallest(10, 'Average TCP Retrans')).reset_index(drop=True)\n",
    "print(bottom_10[['MSISDN/Number', 'Average TCP Retrans']])\n",
    "\n",
    "# Most frequent values of 'Average TCP Retrans'\n",
    "most_frequent = df['Average TCP Retrans'].value_counts().head(10)\n",
    "print(most_frequent)"
   ]
  },
  {
   "cell_type": "code",
   "execution_count": 8,
   "metadata": {},
   "outputs": [
    {
     "name": "stderr",
     "output_type": "stream",
     "text": [
      "C:\\Users\\Ourba\\AppData\\Local\\Temp\\ipykernel_17980\\1201311118.py:2: DeprecationWarning: DataFrameGroupBy.apply operated on the grouping columns. This behavior is deprecated, and in a future version of pandas the grouping columns will be excluded from the operation. Either pass `include_groups=False` to exclude the groupings or explicitly select the grouping columns after groupby to silence this warning.\n",
      "  top_10_rtt = df.groupby('MSISDN/Number').apply(lambda x: x.nlargest(10, 'Average RTT')).reset_index(drop=True)\n"
     ]
    },
    {
     "name": "stdout",
     "output_type": "stream",
     "text": [
      "        MSISDN/Number  Average RTT\n",
      "0        3.360100e+10    46.000000\n",
      "1        3.360100e+10    31.000000\n",
      "2        3.360100e+10   127.458589\n",
      "3        3.360101e+10    84.000000\n",
      "4        3.360101e+10    28.000000\n",
      "...               ...          ...\n",
      "148874   3.379000e+10    52.000000\n",
      "148875   3.379000e+10    40.000000\n",
      "148876   3.197021e+12   127.458589\n",
      "148877   3.370000e+14   127.458589\n",
      "148878   8.823971e+14   127.458589\n",
      "\n",
      "[148879 rows x 2 columns]\n",
      "        MSISDN/Number  Average RTT\n",
      "0        3.360100e+10    46.000000\n",
      "1        3.360100e+10    31.000000\n",
      "2        3.360100e+10   127.458589\n",
      "3        3.360101e+10    84.000000\n",
      "4        3.360101e+10    28.000000\n",
      "...               ...          ...\n",
      "148874   3.379000e+10    52.000000\n",
      "148875   3.379000e+10    40.000000\n",
      "148876   3.197021e+12   127.458589\n",
      "148877   3.370000e+14   127.458589\n",
      "148878   8.823971e+14   127.458589\n",
      "\n",
      "[148879 rows x 2 columns]\n",
      "Average RTT\n",
      "127.458589    27801\n",
      "29.000000      4970\n",
      "39.000000      4137\n",
      "38.000000      2672\n",
      "30.000000      2553\n",
      "40.000000      2550\n",
      "28.000000      2407\n",
      "49.000000      2128\n",
      "31.000000      1898\n",
      "41.000000      1897\n",
      "Name: count, dtype: int64\n"
     ]
    },
    {
     "name": "stderr",
     "output_type": "stream",
     "text": [
      "C:\\Users\\Ourba\\AppData\\Local\\Temp\\ipykernel_17980\\1201311118.py:6: DeprecationWarning: DataFrameGroupBy.apply operated on the grouping columns. This behavior is deprecated, and in a future version of pandas the grouping columns will be excluded from the operation. Either pass `include_groups=False` to exclude the groupings or explicitly select the grouping columns after groupby to silence this warning.\n",
      "  bottom_10_rtt = df.groupby('MSISDN/Number').apply(lambda x: x.nsmallest(10, 'Average RTT')).reset_index(drop=True)\n"
     ]
    }
   ],
   "source": [
    "# Top 10 rows sorted by 'Average RTT'\n",
    "top_10_rtt = df.groupby('MSISDN/Number').apply(lambda x: x.nlargest(10, 'Average RTT')).reset_index(drop=True)\n",
    "print(top_10_rtt[['MSISDN/Number', 'Average RTT']])\n",
    "\n",
    "# Bottom 10 rows sorted by 'Average RTT'\n",
    "bottom_10_rtt = df.groupby('MSISDN/Number').apply(lambda x: x.nsmallest(10, 'Average RTT')).reset_index(drop=True)\n",
    "print(bottom_10_rtt[['MSISDN/Number', 'Average RTT']])\n",
    "\n",
    "# Most frequent values of 'Average RTT'\n",
    "most_frequent_rtt = df['Average RTT'].value_counts().head(10)\n",
    "print(most_frequent_rtt)\n"
   ]
  },
  {
   "cell_type": "code",
   "execution_count": 9,
   "metadata": {},
   "outputs": [
    {
     "name": "stderr",
     "output_type": "stream",
     "text": [
      "C:\\Users\\Ourba\\AppData\\Local\\Temp\\ipykernel_17980\\154645876.py:2: DeprecationWarning: DataFrameGroupBy.apply operated on the grouping columns. This behavior is deprecated, and in a future version of pandas the grouping columns will be excluded from the operation. Either pass `include_groups=False` to exclude the groupings or explicitly select the grouping columns after groupby to silence this warning.\n",
      "  top_10_tp = df.groupby('MSISDN/Number').apply(lambda x: x.nlargest(10, 'Average tp')).reset_index(drop=True)\n"
     ]
    },
    {
     "name": "stdout",
     "output_type": "stream",
     "text": [
      "        MSISDN/Number  Average tp\n",
      "0        3.360100e+10        76.0\n",
      "1        3.360100e+10        99.0\n",
      "2        3.360100e+10        97.0\n",
      "3        3.360101e+10       248.0\n",
      "4        3.360101e+10        63.0\n",
      "...               ...         ...\n",
      "148874   3.379000e+10     10365.0\n",
      "148875   3.379000e+10       116.0\n",
      "148876   3.197021e+12         1.0\n",
      "148877   3.370000e+14        33.0\n",
      "148878   8.823971e+14         2.0\n",
      "\n",
      "[148879 rows x 2 columns]\n",
      "        MSISDN/Number  Average tp\n",
      "0        3.360100e+10        76.0\n",
      "1        3.360100e+10        99.0\n",
      "2        3.360100e+10        97.0\n",
      "3        3.360101e+10       248.0\n",
      "4        3.360101e+10        63.0\n",
      "...               ...         ...\n",
      "148874   3.379000e+10     10365.0\n",
      "148875   3.379000e+10       116.0\n",
      "148876   3.197021e+12         1.0\n",
      "148877   3.370000e+14        33.0\n",
      "148878   8.823971e+14         2.0\n",
      "\n",
      "[148879 rows x 2 columns]\n",
      "Average tp\n",
      "63.0    3882\n",
      "15.0    3741\n",
      "97.0    1939\n",
      "90.0    1872\n",
      "98.0    1798\n",
      "96.0    1663\n",
      "99.0    1559\n",
      "89.0    1545\n",
      "91.0    1509\n",
      "93.0    1485\n",
      "Name: count, dtype: int64\n"
     ]
    },
    {
     "name": "stderr",
     "output_type": "stream",
     "text": [
      "C:\\Users\\Ourba\\AppData\\Local\\Temp\\ipykernel_17980\\154645876.py:6: DeprecationWarning: DataFrameGroupBy.apply operated on the grouping columns. This behavior is deprecated, and in a future version of pandas the grouping columns will be excluded from the operation. Either pass `include_groups=False` to exclude the groupings or explicitly select the grouping columns after groupby to silence this warning.\n",
      "  bottom_10_tp = df.groupby('MSISDN/Number').apply(lambda x: x.nsmallest(10, 'Average tp')).reset_index(drop=True)\n"
     ]
    }
   ],
   "source": [
    "# Top 10 rows sorted by 'Average tp'\n",
    "top_10_tp = df.groupby('MSISDN/Number').apply(lambda x: x.nlargest(10, 'Average tp')).reset_index(drop=True)\n",
    "print(top_10_tp[['MSISDN/Number', 'Average tp']])\n",
    "\n",
    "# Bottom 10 rows sorted by 'Average tp'\n",
    "bottom_10_tp = df.groupby('MSISDN/Number').apply(lambda x: x.nsmallest(10, 'Average tp')).reset_index(drop=True)\n",
    "print(bottom_10_tp[['MSISDN/Number', 'Average tp']])\n",
    "\n",
    "# Most frequent values of 'Average tp'\n",
    "most_frequent_tp = df['Average tp'].value_counts().head(10)\n",
    "print(most_frequent_tp)\n"
   ]
  },
  {
   "cell_type": "code",
   "execution_count": 10,
   "metadata": {},
   "outputs": [
    {
     "name": "stdout",
     "output_type": "stream",
     "text": [
      "Summary Statistics for Average Throughput:\n",
      "                                                    count     mean        std  \\\n",
      "Handset Type                                                                    \n",
      "A-Link Telecom I. Cubot A5                            1.0  23510.0        NaN   \n",
      "A-Link Telecom I. Cubot Note Plus                     1.0   6699.0        NaN   \n",
      "A-Link Telecom I. Cubot Note S                        1.0   8937.0        NaN   \n",
      "A-Link Telecom I. Cubot Nova                          1.0  56217.0        NaN   \n",
      "A-Link Telecom I. Cubot Power                         1.0  69468.0        NaN   \n",
      "...                                                   ...      ...        ...   \n",
      "Zte Starxtrem By Sfr                                  1.0    888.0        NaN   \n",
      "Zte Zte Blade C2 Smartphone Android By Sfr Star...    2.0     58.0  73.539105   \n",
      "Zyxel Communicat. Lte7460                             0.0      NaN        NaN   \n",
      "Zyxel Communicat. Sbg3600                             1.0  97351.0        NaN   \n",
      "Zyxel Communicat. Zyxel Wah7706                       1.0   2173.0        NaN   \n",
      "\n",
      "                                                        min      25%      50%  \\\n",
      "Handset Type                                                                    \n",
      "A-Link Telecom I. Cubot A5                          23510.0  23510.0  23510.0   \n",
      "A-Link Telecom I. Cubot Note Plus                    6699.0   6699.0   6699.0   \n",
      "A-Link Telecom I. Cubot Note S                       8937.0   8937.0   8937.0   \n",
      "A-Link Telecom I. Cubot Nova                        56217.0  56217.0  56217.0   \n",
      "A-Link Telecom I. Cubot Power                       69468.0  69468.0  69468.0   \n",
      "...                                                     ...      ...      ...   \n",
      "Zte Starxtrem By Sfr                                  888.0    888.0    888.0   \n",
      "Zte Zte Blade C2 Smartphone Android By Sfr Star...      6.0     32.0     58.0   \n",
      "Zyxel Communicat. Lte7460                               NaN      NaN      NaN   \n",
      "Zyxel Communicat. Sbg3600                           97351.0  97351.0  97351.0   \n",
      "Zyxel Communicat. Zyxel Wah7706                      2173.0   2173.0   2173.0   \n",
      "\n",
      "                                                        75%      max  \n",
      "Handset Type                                                          \n",
      "A-Link Telecom I. Cubot A5                          23510.0  23510.0  \n",
      "A-Link Telecom I. Cubot Note Plus                    6699.0   6699.0  \n",
      "A-Link Telecom I. Cubot Note S                       8937.0   8937.0  \n",
      "A-Link Telecom I. Cubot Nova                        56217.0  56217.0  \n",
      "A-Link Telecom I. Cubot Power                       69468.0  69468.0  \n",
      "...                                                     ...      ...  \n",
      "Zte Starxtrem By Sfr                                  888.0    888.0  \n",
      "Zte Zte Blade C2 Smartphone Android By Sfr Star...     84.0    110.0  \n",
      "Zyxel Communicat. Lte7460                               NaN      NaN  \n",
      "Zyxel Communicat. Sbg3600                           97351.0  97351.0  \n",
      "Zyxel Communicat. Zyxel Wah7706                      2173.0   2173.0  \n",
      "\n",
      "[1395 rows x 8 columns]\n",
      "\n",
      "Summary Statistics for Average TCP Retransmission:\n",
      "                                                    count          mean  \\\n",
      "Handset Type                                                              \n",
      "A-Link Telecom I. Cubot A5                            1.0  8.203359e+10   \n",
      "A-Link Telecom I. Cubot Note Plus                     1.0  8.201338e+10   \n",
      "A-Link Telecom I. Cubot Note S                        1.0  8.205412e+10   \n",
      "A-Link Telecom I. Cubot Nova                          1.0  8.201291e+10   \n",
      "A-Link Telecom I. Cubot Power                         1.0  8.201278e+10   \n",
      "...                                                   ...           ...   \n",
      "Zte Starxtrem By Sfr                                  1.0  8.203359e+10   \n",
      "Zte Zte Blade C2 Smartphone Android By Sfr Star...    2.0  8.202318e+10   \n",
      "Zyxel Communicat. Lte7460                             0.0           NaN   \n",
      "Zyxel Communicat. Sbg3600                             1.0  8.206298e+10   \n",
      "Zyxel Communicat. Zyxel Wah7706                       1.0  8.201278e+10   \n",
      "\n",
      "                                                             std  \\\n",
      "Handset Type                                                       \n",
      "A-Link Telecom I. Cubot A5                                   NaN   \n",
      "A-Link Telecom I. Cubot Note Plus                            NaN   \n",
      "A-Link Telecom I. Cubot Note S                               NaN   \n",
      "A-Link Telecom I. Cubot Nova                                 NaN   \n",
      "A-Link Telecom I. Cubot Power                                NaN   \n",
      "...                                                          ...   \n",
      "Zte Starxtrem By Sfr                                         NaN   \n",
      "Zte Zte Blade C2 Smartphone Android By Sfr Star...  1.471295e+07   \n",
      "Zyxel Communicat. Lte7460                                    NaN   \n",
      "Zyxel Communicat. Sbg3600                                    NaN   \n",
      "Zyxel Communicat. Zyxel Wah7706                              NaN   \n",
      "\n",
      "                                                             min  \\\n",
      "Handset Type                                                       \n",
      "A-Link Telecom I. Cubot A5                          8.203359e+10   \n",
      "A-Link Telecom I. Cubot Note Plus                   8.201338e+10   \n",
      "A-Link Telecom I. Cubot Note S                      8.205412e+10   \n",
      "A-Link Telecom I. Cubot Nova                        8.201291e+10   \n",
      "A-Link Telecom I. Cubot Power                       8.201278e+10   \n",
      "...                                                          ...   \n",
      "Zte Starxtrem By Sfr                                8.203359e+10   \n",
      "Zte Zte Blade C2 Smartphone Android By Sfr Star...  8.201278e+10   \n",
      "Zyxel Communicat. Lte7460                                    NaN   \n",
      "Zyxel Communicat. Sbg3600                           8.206298e+10   \n",
      "Zyxel Communicat. Zyxel Wah7706                     8.201278e+10   \n",
      "\n",
      "                                                             25%  \\\n",
      "Handset Type                                                       \n",
      "A-Link Telecom I. Cubot A5                          8.203359e+10   \n",
      "A-Link Telecom I. Cubot Note Plus                   8.201338e+10   \n",
      "A-Link Telecom I. Cubot Note S                      8.205412e+10   \n",
      "A-Link Telecom I. Cubot Nova                        8.201291e+10   \n",
      "A-Link Telecom I. Cubot Power                       8.201278e+10   \n",
      "...                                                          ...   \n",
      "Zte Starxtrem By Sfr                                8.203359e+10   \n",
      "Zte Zte Blade C2 Smartphone Android By Sfr Star...  8.201798e+10   \n",
      "Zyxel Communicat. Lte7460                                    NaN   \n",
      "Zyxel Communicat. Sbg3600                           8.206298e+10   \n",
      "Zyxel Communicat. Zyxel Wah7706                     8.201278e+10   \n",
      "\n",
      "                                                             50%  \\\n",
      "Handset Type                                                       \n",
      "A-Link Telecom I. Cubot A5                          8.203359e+10   \n",
      "A-Link Telecom I. Cubot Note Plus                   8.201338e+10   \n",
      "A-Link Telecom I. Cubot Note S                      8.205412e+10   \n",
      "A-Link Telecom I. Cubot Nova                        8.201291e+10   \n",
      "A-Link Telecom I. Cubot Power                       8.201278e+10   \n",
      "...                                                          ...   \n",
      "Zte Starxtrem By Sfr                                8.203359e+10   \n",
      "Zte Zte Blade C2 Smartphone Android By Sfr Star...  8.202318e+10   \n",
      "Zyxel Communicat. Lte7460                                    NaN   \n",
      "Zyxel Communicat. Sbg3600                           8.206298e+10   \n",
      "Zyxel Communicat. Zyxel Wah7706                     8.201278e+10   \n",
      "\n",
      "                                                             75%           max  \n",
      "Handset Type                                                                    \n",
      "A-Link Telecom I. Cubot A5                          8.203359e+10  8.203359e+10  \n",
      "A-Link Telecom I. Cubot Note Plus                   8.201338e+10  8.201338e+10  \n",
      "A-Link Telecom I. Cubot Note S                      8.205412e+10  8.205412e+10  \n",
      "A-Link Telecom I. Cubot Nova                        8.201291e+10  8.201291e+10  \n",
      "A-Link Telecom I. Cubot Power                       8.201278e+10  8.201278e+10  \n",
      "...                                                          ...           ...  \n",
      "Zte Starxtrem By Sfr                                8.203359e+10  8.203359e+10  \n",
      "Zte Zte Blade C2 Smartphone Android By Sfr Star...  8.202838e+10  8.203359e+10  \n",
      "Zyxel Communicat. Lte7460                                    NaN           NaN  \n",
      "Zyxel Communicat. Sbg3600                           8.206298e+10  8.206298e+10  \n",
      "Zyxel Communicat. Zyxel Wah7706                     8.201278e+10  8.201278e+10  \n",
      "\n",
      "[1395 rows x 8 columns]\n",
      "\n",
      "Pivot Table for Average Throughput:\n",
      "                                   Average tp\n",
      "Handset Type                                 \n",
      "A-Link Telecom I. Cubot A5            23510.0\n",
      "A-Link Telecom I. Cubot Note Plus      6699.0\n",
      "A-Link Telecom I. Cubot Note S         8937.0\n",
      "A-Link Telecom I. Cubot Nova          56217.0\n",
      "A-Link Telecom I. Cubot Power         69468.0\n",
      "\n",
      "Pivot Table for Average TCP Retransmission:\n",
      "                                   Average TCP Retrans\n",
      "Handset Type                                          \n",
      "A-Link Telecom I. Cubot A5                8.203359e+10\n",
      "A-Link Telecom I. Cubot Note Plus         8.201338e+10\n",
      "A-Link Telecom I. Cubot Note S            8.205412e+10\n",
      "A-Link Telecom I. Cubot Nova              8.201291e+10\n",
      "A-Link Telecom I. Cubot Power             8.201278e+10\n"
     ]
    }
   ],
   "source": [
    "# Summary Statistics\n",
    "average_throughput_stats = df.groupby('Handset Type')['Average tp'].describe()\n",
    "average_tcp_retransmission_stats = df.groupby('Handset Type')['Average TCP Retrans'].describe()\n",
    "\n",
    "# Pivot Tables\n",
    "average_throughput_pivot = df.pivot_table(index='Handset Type', values='Average tp', aggfunc='mean')\n",
    "average_tcp_retransmission_pivot = df.pivot_table(index='Handset Type', values='Average TCP Retrans', aggfunc='mean')\n",
    "\n",
    "print(\"Summary Statistics for Average Throughput:\")\n",
    "print(average_throughput_stats)\n",
    "print(\"\\nSummary Statistics for Average TCP Retransmission:\")\n",
    "print(average_tcp_retransmission_stats)\n",
    "\n",
    "print(\"\\nPivot Table for Average Throughput:\")\n",
    "print(average_throughput_pivot.head())\n",
    "print(\"\\nPivot Table for Average TCP Retransmission:\")\n",
    "print(average_tcp_retransmission_pivot.head())"
   ]
  },
  {
   "cell_type": "code",
   "execution_count": 11,
   "metadata": {},
   "outputs": [
    {
     "name": "stdout",
     "output_type": "stream",
     "text": [
      "Duplicate Rows:\n",
      "Empty DataFrame\n",
      "Columns: [Bearer Id, Start, Start ms, End, End ms, Dur. (ms), IMSI, MSISDN/Number, IMEI, Last Location Name, Avg RTT DL (ms), Avg RTT UL (ms), Avg Bearer TP DL (kbps), Avg Bearer TP UL (kbps), TCP DL Retrans. Vol (Bytes), TCP UL Retrans. Vol (Bytes), DL TP < 50 Kbps (%), 50 Kbps < DL TP < 250 Kbps (%), 250 Kbps < DL TP < 1 Mbps (%), DL TP > 1 Mbps (%), UL TP < 10 Kbps (%), 10 Kbps < UL TP < 50 Kbps (%), 50 Kbps < UL TP < 300 Kbps (%), UL TP > 300 Kbps (%), HTTP DL (Bytes), HTTP UL (Bytes), Activity Duration DL (ms), Activity Duration UL (ms), Dur. (ms).1, Handset Manufacturer, Handset Type, Nb of sec with 125000B < Vol DL, Nb of sec with 1250B < Vol UL < 6250B, Nb of sec with 31250B < Vol DL < 125000B, Nb of sec with 37500B < Vol UL, Nb of sec with 6250B < Vol DL < 31250B, Nb of sec with 6250B < Vol UL < 37500B, Nb of sec with Vol DL < 6250B, Nb of sec with Vol UL < 1250B, Social Media DL (Bytes), Social Media UL (Bytes), Google DL (Bytes), Google UL (Bytes), Email DL (Bytes), Email UL (Bytes), Youtube DL (Bytes), Youtube UL (Bytes), Netflix DL (Bytes), Netflix UL (Bytes), Gaming DL (Bytes), Gaming UL (Bytes), Other DL (Bytes), Other UL (Bytes), Total UL (Bytes), Total DL (Bytes), Average TCP Retrans, Average RTT, Average tp]\n",
      "Index: []\n",
      "\n",
      "[0 rows x 58 columns]\n",
      "Cluster Summary (After Cleaning):\n",
      "           Average tp  Average TCP Retrans\n",
      "Cluster                                   \n",
      "0         1868.912169         8.203036e+10\n",
      "1        42347.215964         8.201715e+10\n",
      "2        41465.073370         8.218340e+10\n"
     ]
    }
   ],
   "source": [
    "from sklearn.cluster import KMeans\n",
    "from sklearn.preprocessing import StandardScaler\n",
    "\n",
    "# Data Preparation\n",
    "data = df[['Average tp', 'Average TCP Retrans']].copy()\n",
    "\n",
    "duplicate_rows = df[df.duplicated()]\n",
    "print(\"Duplicate Rows:\")\n",
    "print(duplicate_rows)\n",
    "\n",
    "# Remove duplicates\n",
    "\n",
    "scaler=StandardScaler()\n",
    "# Re-run clustering on cleaned data\n",
    "data_cleaned = df[['Average tp', 'Average TCP Retrans']].copy()\n",
    "data_cleaned.fillna(data_cleaned.mean(), inplace=True)\n",
    "scaled_data_cleaned = scaler.fit_transform(data_cleaned)\n",
    "\n",
    "kmeans_cleaned = KMeans(n_clusters=3, random_state=42)\n",
    "kmeans_cleaned.fit(scaled_data_cleaned)\n",
    "\n",
    "# Add cluster labels to the cleaned dataframe\n",
    "df['Cluster'] = kmeans_cleaned.labels_\n",
    "\n",
    "# Analyze clusters\n",
    "cluster_summary_cleaned = df.groupby('Cluster')[['Average tp', 'Average TCP Retrans']].mean()\n",
    "print(\"Cluster Summary (After Cleaning):\")\n",
    "print(cluster_summary_cleaned)\n",
    "# Save cluster_summary_cleaned to a file\n",
    "\n",
    "cluster_summary_cleaned.to_csv('cluster_summary_cleaned.csv', index=False)\n",
    "df.to_csv('analyezed_df.csv', index=False)\n"
   ]
  },
  {
   "cell_type": "code",
   "execution_count": 12,
   "metadata": {},
   "outputs": [
    {
     "name": "stderr",
     "output_type": "stream",
     "text": [
      "C:\\Users\\Ourba\\AppData\\Local\\Temp\\ipykernel_17980\\3400884294.py:12: FutureWarning: \n",
      "\n",
      "The `ci` parameter is deprecated. Use `errorbar=None` for the same effect.\n",
      "\n",
      "  sns.barplot(x='Cluster', y='Average tp', data=cluster_summary_cleaned, color='skyblue', ci=None)\n"
     ]
    },
    {
     "data": {
      "image/png": "[encoded data removed]",
      "text/plain": [
       "<Figure size 1000x600 with 1 Axes>"
      ]
     },
     "metadata": {},
     "output_type": "display_data"
    },
    {
     "name": "stderr",
     "output_type": "stream",
     "text": [
      "C:\\Users\\Ourba\\AppData\\Local\\Temp\\ipykernel_17980\\3400884294.py:20: FutureWarning: \n",
      "\n",
      "The `ci` parameter is deprecated. Use `errorbar=None` for the same effect.\n",
      "\n",
      "  sns.barplot(x='Cluster', y='Average TCP Retrans', data=cluster_summary_cleaned, color='salmon', ci=None)\n"
     ]
    },
    {
     "data": {
      "image/png": "[encoded data removed]",
      "text/plain": [
       "<Figure size 1000x600 with 1 Axes>"
      ]
     },
     "metadata": {},
     "output_type": "display_data"
    }
   ],
   "source": [
    "import seaborn as sns\n",
    "import matplotlib.pyplot as plt\n",
    "\n",
    "# Set seaborn style\n",
    "sns.set(style=\"whitegrid\")\n",
    "\n",
    "# Define cluster summary DataFrame\n",
    "cluster_summary_cleaned.reset_index(inplace=True)\n",
    "\n",
    "# Plot for Average Throughput\n",
    "plt.figure(figsize=(10, 6))\n",
    "sns.barplot(x='Cluster', y='Average tp', data=cluster_summary_cleaned, color='skyblue', ci=None)\n",
    "plt.xlabel('Cluster', fontsize=12)\n",
    "plt.ylabel('Average Throughput', fontsize=12)\n",
    "plt.title('Average Throughput by Cluster', fontsize=14)\n",
    "plt.show()\n",
    "\n",
    "# Plot for Average TCP Retransmission\n",
    "plt.figure(figsize=(10, 6))\n",
    "sns.barplot(x='Cluster', y='Average TCP Retrans', data=cluster_summary_cleaned, color='salmon', ci=None)\n",
    "plt.xlabel('Cluster', fontsize=12)\n",
    "plt.ylabel('Average TCP Retransmission', fontsize=12)\n",
    "plt.title('Average TCP Retransmission by Cluster', fontsize=14)\n",
    "plt.show()\n"
   ]
  }
 ],
 "metadata": {
  "kernelspec": {
   "display_name": ".venv",
   "language": "python",
   "name": "python3"
  },
  "language_info": {
   "codemirror_mode": {
    "name": "ipython",
    "version": 3
   },
   "file_extension": ".py",
   "mimetype": "text/x-python",
   "name": "python",
   "nbconvert_exporter": "python",
   "pygments_lexer": "ipython3",
   "version": "3.12.2"
  }
 },
 "nbformat": 4,
 "nbformat_minor": 2
}
